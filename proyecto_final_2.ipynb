{
 "cells": [
  {
   "cell_type": "markdown",
   "metadata": {},
   "source": [
    "Classification Task:\n",
    "\n",
    "Decide about a good evaluation strategy and justify your choice. Find best parameters for the following classification models: KNN classification, Logistic Regression, Linear Support Vector Machine, Kernelized Support Vector Machine, Decision Tree. Which model gives the best results?"
   ]
  },
  {
   "cell_type": "code",
   "execution_count": 2,
   "metadata": {},
   "outputs": [],
   "source": [
    "import pandas as pd\n",
    "import numpy as np\n",
    "import matplotlib.pyplot as plt\n",
    "from sklearn.metrics import roc_auc_score\n",
    "from sklearn.model_selection import train_test_split\n",
    "from sklearn.model_selection import LeaveOneOut\n",
    "from sklearn.preprocessing import MinMaxScaler\n",
    "from sklearn.model_selection import GridSearchCV\n",
    "from sklearn.neighbors import KNeighborsClassifier\n",
    "from sklearn.svm import LinearSVC\n",
    "from sklearn.ensemble import VotingClassifier\n",
    "from sklearn.linear_model import LogisticRegression\n",
    "from sklearn.svm import SVC\n",
    "from sklearn.ensemble import RandomForestClassifier\n",
    "from sklearn.tree import DecisionTreeClassifier\n",
    "from sklearn import metrics\n",
    "from sklearn.metrics import roc_curve, auc\n",
    "from sklearn.metrics import roc_auc_score\n",
    "from sklearn.model_selection import cross_val_score\n",
    "import warnings\n",
    "warnings.filterwarnings('ignore')"
   ]
  },
  {
   "cell_type": "code",
   "execution_count": 3,
   "metadata": {},
   "outputs": [
    {
     "data": {
      "text/plain": [
       "array([[<AxesSubplot:title={'center':'889'}>,\n",
       "        <AxesSubplot:title={'center':'939'}>,\n",
       "        <AxesSubplot:title={'center':'960'}>,\n",
       "        <AxesSubplot:title={'center':'805'}>,\n",
       "        <AxesSubplot:title={'center':'805.1'}>,\n",
       "        <AxesSubplot:title={'center':'1143'}>,\n",
       "        <AxesSubplot:title={'center':'1121'}>,\n",
       "        <AxesSubplot:title={'center':'549'}>,\n",
       "        <AxesSubplot:title={'center':'613'}>],\n",
       "       [<AxesSubplot:title={'center':'587'}>,\n",
       "        <AxesSubplot:title={'center':'447'}>,\n",
       "        <AxesSubplot:title={'center':'406'}>,\n",
       "        <AxesSubplot:title={'center':'696'}>,\n",
       "        <AxesSubplot:title={'center':'612'}>,\n",
       "        <AxesSubplot:title={'center':'0.000730'}>,\n",
       "        <AxesSubplot:title={'center':'0.000777'}>,\n",
       "        <AxesSubplot:title={'center':'0.000757'}>,\n",
       "        <AxesSubplot:title={'center':'0.000625'}>],\n",
       "       [<AxesSubplot:title={'center':'0.000588'}>,\n",
       "        <AxesSubplot:title={'center':'0.000905'}>,\n",
       "        <AxesSubplot:title={'center':'0.000888'}>,\n",
       "        <AxesSubplot:title={'center':'1.000000'}>,\n",
       "        <AxesSubplot:title={'center':'1.000000.1'}>,\n",
       "        <AxesSubplot:title={'center':'1.000000.2'}>,\n",
       "        <AxesSubplot:title={'center':'1.000000.3'}>,\n",
       "        <AxesSubplot:title={'center':'1.000000.4'}>,\n",
       "        <AxesSubplot:title={'center':'1.000000.5'}>],\n",
       "       [<AxesSubplot:title={'center':'1.000000.6'}>,\n",
       "        <AxesSubplot:title={'center':'889.1'}>,\n",
       "        <AxesSubplot:title={'center':'939.1'}>,\n",
       "        <AxesSubplot:title={'center':'960.1'}>,\n",
       "        <AxesSubplot:title={'center':'805.2'}>,\n",
       "        <AxesSubplot:title={'center':'805.3'}>,\n",
       "        <AxesSubplot:title={'center':'1143.1'}>,\n",
       "        <AxesSubplot:title={'center':'1121.1'}>,\n",
       "        <AxesSubplot:title={'center':'0.000449'}>],\n",
       "       [<AxesSubplot:title={'center':'0.000473'}>,\n",
       "        <AxesSubplot:title={'center':'0.000490'}>,\n",
       "        <AxesSubplot:title={'center':'0.000435'}>,\n",
       "        <AxesSubplot:title={'center':'0.000437'}>,\n",
       "        <AxesSubplot:title={'center':'0.000577'}>,\n",
       "        <AxesSubplot:title={'center':'0.000556'}>,\n",
       "        <AxesSubplot:title={'center':'1.000000.7'}>,\n",
       "        <AxesSubplot:title={'center':'1.000000.8'}>,\n",
       "        <AxesSubplot:title={'center':'1.000000.9'}>],\n",
       "       [<AxesSubplot:title={'center':'1.000000.10'}>,\n",
       "        <AxesSubplot:title={'center':'1.000000.11'}>,\n",
       "        <AxesSubplot:title={'center':'1.000000.12'}>,\n",
       "        <AxesSubplot:title={'center':'1.000000.13'}>,\n",
       "        <AxesSubplot:title={'center':'1.000000.14'}>,\n",
       "        <AxesSubplot:title={'center':'1.000000.15'}>,\n",
       "        <AxesSubplot:title={'center':'1.000000.16'}>,\n",
       "        <AxesSubplot:title={'center':'1.000000.17'}>,\n",
       "        <AxesSubplot:title={'center':'1.000000.18'}>],\n",
       "       [<AxesSubplot:title={'center':'1.000000.19'}>,\n",
       "        <AxesSubplot:title={'center':'1.000000.20'}>,\n",
       "        <AxesSubplot:title={'center':'636'}>,\n",
       "        <AxesSubplot:title={'center':'687'}>,\n",
       "        <AxesSubplot:title={'center':'658'}>,\n",
       "        <AxesSubplot:title={'center':'503'}>,\n",
       "        <AxesSubplot:title={'center':'478'}>,\n",
       "        <AxesSubplot:title={'center':'788'}>,\n",
       "        <AxesSubplot:title={'center':'783'}>],\n",
       "       [<AxesSubplot:title={'center':'1.000000.21'}>,\n",
       "        <AxesSubplot:title={'center':'1.000000.22'}>,\n",
       "        <AxesSubplot:title={'center':'1.000000.23'}>,\n",
       "        <AxesSubplot:title={'center':'1.000000.24'}>,\n",
       "        <AxesSubplot:title={'center':'1.000000.25'}>,\n",
       "        <AxesSubplot:title={'center':'1.000000.26'}>,\n",
       "        <AxesSubplot:title={'center':'1.000000.27'}>,\n",
       "        <AxesSubplot:title={'center':'889.2'}>,\n",
       "        <AxesSubplot:title={'center':'939.2'}>],\n",
       "       [<AxesSubplot:title={'center':'960.2'}>,\n",
       "        <AxesSubplot:title={'center':'805.4'}>,\n",
       "        <AxesSubplot:title={'center':'805.5'}>,\n",
       "        <AxesSubplot:title={'center':'1143.2'}>,\n",
       "        <AxesSubplot:title={'center':'1121.2'}>,\n",
       "        <AxesSubplot:title={'center':'1.0'}>, <AxesSubplot:>,\n",
       "        <AxesSubplot:>, <AxesSubplot:>]], dtype=object)"
      ]
     },
     "execution_count": 3,
     "metadata": {},
     "output_type": "execute_result"
    },
    {
     "data": {
      "image/png": "[encoded data removed]",
      "text/plain": [
       "<Figure size 1152x1440 with 81 Axes>"
      ]
     },
     "metadata": {
      "needs_background": "light"
     },
     "output_type": "display_data"
    }
   ],
   "source": [
    "import zipfile\n",
    "\n",
    "with zipfile.ZipFile(\"twitter.zip\",\"r\") as zip_ref:\n",
    "    zip_ref.extractall(\".\")\n",
    "Twitter_Absolute_Sigma = pd.read_table('Twitter-Absolute-Sigma-500.csv',sep=\",\")\n",
    "Twitter_Absolute_Sigma.hist(figsize=(16, 20), bins=50, xlabelsize=8, ylabelsize=8)"
   ]
  },
  {
   "cell_type": "code",
   "execution_count": 3,
   "metadata": {},
   "outputs": [],
   "source": [
    "Twitter_Absolute_Sigma.columns= [\"NCD_0\", \"NCD_1\", \"NCD_2\", \"NCD_3\", \"NCD_4\", \"NCD_5\", \"NCD_6\", \"AI_0\", \"AI_1\", \"AI_2\", \"AI_3\", \"AI_4\", \"AI_5\", \"AI_6\", \"AS_NA_0\", \"AS_NA_1\", \"AS_NA_2\", \"AS_NA_3\", \"AS_NA_4\", \"AS_NA_5\", \"AS_NA_6\", \"BL_0\", \"BL_1\", \"BL_2\", \"BL_3\", \"BL_4\", \"BL_5\", \"BL_6\", \"NAC_0\", \"NAC_1\", \"NAC_2\", \"NAC_3\", \"NAC_4\", \"NAC_5\", \"NAC_6\", \"AS_NAC_0\", \"AS_NAC_1\", \"AS_NAC_2\", \"AS_NAC_3\", \"AS_NAC_4\", \"AS_NAC_5\", \"AS_NAC_6\", \"CS_0\", \"CS_1\", \"CS_2\", \"CS_3\", \"CS_4\", \"CS_5\", \"CS_6\", \"AT_0\", \"AT_1\", \"AT_2\", \"AT_3\", \"AT_4\", \"AT_5\", \"AT_6\", \"NA_0\", \"NA_1\", \"NA_2\", \"NA_3\", \"NA_4\", \"NA_5\", \"NA_6\", \"ADL_0\", \"ADL_1\", \"ADL_2\", \"ADL_3\", \"ADL_4\", \"ADL_5\", \"ADL_6\", \"NAD_0\", \"NAD_1\", \"NAD_2\", \"NAD_3\", \"NAD_4\", \"NAD_5\", \"NAD_6\", \"buzz\"]"
   ]
  },
  {
   "cell_type": "code",
   "execution_count": 4,
   "metadata": {},
   "outputs": [
    {
     "name": "stdout",
     "output_type": "stream",
     "text": [
      "<class 'pandas.core.frame.DataFrame'>\n",
      "RangeIndex: 140706 entries, 0 to 140705\n",
      "Data columns (total 78 columns):\n",
      " #   Column    Non-Null Count   Dtype  \n",
      "---  ------    --------------   -----  \n",
      " 0   NCD_0     140706 non-null  int64  \n",
      " 1   NCD_1     140706 non-null  int64  \n",
      " 2   NCD_2     140706 non-null  int64  \n",
      " 3   NCD_3     140706 non-null  int64  \n",
      " 4   NCD_4     140706 non-null  int64  \n",
      " 5   NCD_5     140706 non-null  int64  \n",
      " 6   NCD_6     140706 non-null  int64  \n",
      " 7   AI_0      140706 non-null  int64  \n",
      " 8   AI_1      140706 non-null  int64  \n",
      " 9   AI_2      140706 non-null  int64  \n",
      " 10  AI_3      140706 non-null  int64  \n",
      " 11  AI_4      140706 non-null  int64  \n",
      " 12  AI_5      140706 non-null  int64  \n",
      " 13  AI_6      140706 non-null  int64  \n",
      " 14  AS_NA_0   140706 non-null  float64\n",
      " 15  AS_NA_1   140706 non-null  float64\n",
      " 16  AS_NA_2   140706 non-null  float64\n",
      " 17  AS_NA_3   140706 non-null  float64\n",
      " 18  AS_NA_4   140706 non-null  float64\n",
      " 19  AS_NA_5   140706 non-null  float64\n",
      " 20  AS_NA_6   140706 non-null  float64\n",
      " 21  BL_0      140706 non-null  float64\n",
      " 22  BL_1      140706 non-null  float64\n",
      " 23  BL_2      140706 non-null  float64\n",
      " 24  BL_3      140706 non-null  float64\n",
      " 25  BL_4      140706 non-null  float64\n",
      " 26  BL_5      140706 non-null  float64\n",
      " 27  BL_6      140706 non-null  float64\n",
      " 28  NAC_0     140706 non-null  int64  \n",
      " 29  NAC_1     140706 non-null  int64  \n",
      " 30  NAC_2     140706 non-null  int64  \n",
      " 31  NAC_3     140706 non-null  int64  \n",
      " 32  NAC_4     140706 non-null  int64  \n",
      " 33  NAC_5     140706 non-null  int64  \n",
      " 34  NAC_6     140706 non-null  int64  \n",
      " 35  AS_NAC_0  140706 non-null  float64\n",
      " 36  AS_NAC_1  140706 non-null  float64\n",
      " 37  AS_NAC_2  140706 non-null  float64\n",
      " 38  AS_NAC_3  140706 non-null  float64\n",
      " 39  AS_NAC_4  140706 non-null  float64\n",
      " 40  AS_NAC_5  140706 non-null  float64\n",
      " 41  AS_NAC_6  140706 non-null  float64\n",
      " 42  CS_0      140706 non-null  float64\n",
      " 43  CS_1      140706 non-null  float64\n",
      " 44  CS_2      140706 non-null  float64\n",
      " 45  CS_3      140706 non-null  float64\n",
      " 46  CS_4      140706 non-null  float64\n",
      " 47  CS_5      140706 non-null  float64\n",
      " 48  CS_6      140706 non-null  float64\n",
      " 49  AT_0      140706 non-null  float64\n",
      " 50  AT_1      140706 non-null  float64\n",
      " 51  AT_2      140706 non-null  float64\n",
      " 52  AT_3      140706 non-null  float64\n",
      " 53  AT_4      140706 non-null  float64\n",
      " 54  AT_5      140706 non-null  float64\n",
      " 55  AT_6      140706 non-null  float64\n",
      " 56  NA_0      140706 non-null  int64  \n",
      " 57  NA_1      140706 non-null  int64  \n",
      " 58  NA_2      140706 non-null  int64  \n",
      " 59  NA_3      140706 non-null  int64  \n",
      " 60  NA_4      140706 non-null  int64  \n",
      " 61  NA_5      140706 non-null  int64  \n",
      " 62  NA_6      140706 non-null  int64  \n",
      " 63  ADL_0     140706 non-null  float64\n",
      " 64  ADL_1     140706 non-null  float64\n",
      " 65  ADL_2     140706 non-null  float64\n",
      " 66  ADL_3     140706 non-null  float64\n",
      " 67  ADL_4     140706 non-null  float64\n",
      " 68  ADL_5     140706 non-null  float64\n",
      " 69  ADL_6     140706 non-null  float64\n",
      " 70  NAD_0     140706 non-null  int64  \n",
      " 71  NAD_1     140706 non-null  int64  \n",
      " 72  NAD_2     140706 non-null  int64  \n",
      " 73  NAD_3     140706 non-null  int64  \n",
      " 74  NAD_4     140706 non-null  int64  \n",
      " 75  NAD_5     140706 non-null  int64  \n",
      " 76  NAD_6     140706 non-null  int64  \n",
      " 77  buzz      140706 non-null  float64\n",
      "dtypes: float64(43), int64(35)\n",
      "memory usage: 83.7 MB\n"
     ]
    }
   ],
   "source": [
    "Twitter_Absolute_Sigma.info()"
   ]
  },
  {
   "cell_type": "code",
   "execution_count": 5,
   "metadata": {},
   "outputs": [
    {
     "name": "stdout",
     "output_type": "stream",
     "text": [
      "<class 'pandas.core.frame.DataFrame'>\n",
      "46\n",
      "Anterior (140706, 78), nuevo (140706, 32)\n"
     ]
    },
    {
     "data": {
      "image/png": "[encoded data removed]",
      "text/plain": [
       "<Figure size 432x288 with 2 Axes>"
      ]
     },
     "metadata": {
      "needs_background": "light"
     },
     "output_type": "display_data"
    }
   ],
   "source": [
    "# método de curado para columnas correlacionadas\n",
    "# obtenido de https://chrisalbon.com/machine_learning/feature_selection/drop_highly_correlated_features/ \n",
    "# pero adaptado por nosotros\n",
    "import seaborn as sb\n",
    "matriz_corr = Twitter_Absolute_Sigma.corr().abs()\n",
    "print(type(matriz_corr))\n",
    "sb.heatmap(matriz_corr)\n",
    "upper = matriz_corr.where(np.triu(np.ones(matriz_corr.shape), k=1).astype(np.bool))\n",
    "la_borracion = [column for column in upper.columns if any(upper[column] > 0.95)]\n",
    "print(len(la_borracion))\n",
    "twitter_nuevo = Twitter_Absolute_Sigma.drop(Twitter_Absolute_Sigma[la_borracion], axis = 1)\n",
    "print(\"Anterior {}, nuevo {}\".format(Twitter_Absolute_Sigma.shape, twitter_nuevo.shape))"
   ]
  },
  {
   "cell_type": "code",
   "execution_count": 6,
   "metadata": {},
   "outputs": [
    {
     "name": "stdout",
     "output_type": "stream",
     "text": [
      "El tipo del objecto correlacion es <class 'pandas.core.series.Series'>\n",
      "Exista una alta correlación entre buzz y la(s) 17 variable(s) que imprimimos a continuación :\n",
      "AS_NA_6    0.590685\n",
      "AS_NA_0    0.569936\n",
      "AI_0       0.563503\n",
      "AI_5       0.563072\n",
      "AS_NA_4    0.562929\n",
      "AS_NA_3    0.557119\n",
      "AI_6       0.552311\n",
      "AS_NA_1    0.551447\n",
      "AS_NA_2    0.547838\n",
      "AI_4       0.546427\n",
      "AI_1       0.545227\n",
      "NCD_0      0.540727\n",
      "NCD_6      0.540694\n",
      "AI_3       0.540559\n",
      "AI_2       0.537591\n",
      "NCD_3      0.526567\n",
      "NCD_2      0.525923\n",
      "Name: buzz, dtype: float64\n"
     ]
    }
   ],
   "source": [
    "\n",
    "correlacion = twitter_nuevo.corr()['buzz'][:-1]\n",
    "#print(correlacion)\n",
    "print(\"El tipo del objecto correlacion es {}\".format(type(correlacion)))\n",
    "golden_features_list = correlacion[abs(correlacion) > 0.5].sort_values(ascending=False)\n",
    "print(\"Exista una alta correlación entre buzz y la(s) {} variable(s) que imprimimos a continuación :\\n{}\".format(len(golden_features_list), golden_features_list))\n"
   ]
  },
  {
   "cell_type": "code",
   "execution_count": 7,
   "metadata": {},
   "outputs": [],
   "source": [
    "#Transforming the predicted buzz column to integer\n",
    "twitter_nuevo['buzz'] = twitter_nuevo['buzz'].map( {1.0: 1, 0.0: 0} ).astype(int)"
   ]
  },
  {
   "cell_type": "code",
   "execution_count": 8,
   "metadata": {},
   "outputs": [
    {
     "data": {
      "text/html": [
       "<div>\n",
       "<style scoped>\n",
       "    .dataframe tbody tr th:only-of-type {\n",
       "        vertical-align: middle;\n",
       "    }\n",
       "\n",
       "    .dataframe tbody tr th {\n",
       "        vertical-align: top;\n",
       "    }\n",
       "\n",
       "    .dataframe thead th {\n",
       "        text-align: right;\n",
       "    }\n",
       "</style>\n",
       "<table border=\"1\" class=\"dataframe\">\n",
       "  <thead>\n",
       "    <tr style=\"text-align: right;\">\n",
       "      <th></th>\n",
       "      <th>AS_NA_6</th>\n",
       "      <th>AS_NA_0</th>\n",
       "      <th>AI_0</th>\n",
       "      <th>AI_5</th>\n",
       "      <th>AS_NA_4</th>\n",
       "      <th>AS_NA_3</th>\n",
       "      <th>AI_6</th>\n",
       "      <th>AS_NA_1</th>\n",
       "      <th>AS_NA_2</th>\n",
       "      <th>AI_4</th>\n",
       "      <th>AI_1</th>\n",
       "      <th>NCD_0</th>\n",
       "      <th>NCD_6</th>\n",
       "      <th>AI_3</th>\n",
       "      <th>AI_2</th>\n",
       "      <th>NCD_3</th>\n",
       "      <th>NCD_2</th>\n",
       "      <th>buzz</th>\n",
       "    </tr>\n",
       "  </thead>\n",
       "  <tbody>\n",
       "    <tr>\n",
       "      <th>0</th>\n",
       "      <td>0.000729</td>\n",
       "      <td>0.000517</td>\n",
       "      <td>366</td>\n",
       "      <td>519</td>\n",
       "      <td>0.000647</td>\n",
       "      <td>0.000614</td>\n",
       "      <td>545</td>\n",
       "      <td>0.000460</td>\n",
       "      <td>0.000474</td>\n",
       "      <td>463</td>\n",
       "      <td>288</td>\n",
       "      <td>542</td>\n",
       "      <td>832</td>\n",
       "      <td>445</td>\n",
       "      <td>318</td>\n",
       "      <td>626</td>\n",
       "      <td>504</td>\n",
       "      <td>1</td>\n",
       "    </tr>\n",
       "    <tr>\n",
       "      <th>1</th>\n",
       "      <td>0.000496</td>\n",
       "      <td>0.000234</td>\n",
       "      <td>66</td>\n",
       "      <td>65</td>\n",
       "      <td>0.000618</td>\n",
       "      <td>0.000264</td>\n",
       "      <td>113</td>\n",
       "      <td>0.000249</td>\n",
       "      <td>0.000490</td>\n",
       "      <td>131</td>\n",
       "      <td>59</td>\n",
       "      <td>92</td>\n",
       "      <td>162</td>\n",
       "      <td>58</td>\n",
       "      <td>118</td>\n",
       "      <td>100</td>\n",
       "      <td>196</td>\n",
       "      <td>0</td>\n",
       "    </tr>\n",
       "    <tr>\n",
       "      <th>2</th>\n",
       "      <td>0.000548</td>\n",
       "      <td>0.000339</td>\n",
       "      <td>83</td>\n",
       "      <td>696</td>\n",
       "      <td>0.000538</td>\n",
       "      <td>0.001074</td>\n",
       "      <td>159</td>\n",
       "      <td>0.000294</td>\n",
       "      <td>0.000320</td>\n",
       "      <td>155</td>\n",
       "      <td>78</td>\n",
       "      <td>90</td>\n",
       "      <td>184</td>\n",
       "      <td>288</td>\n",
       "      <td>76</td>\n",
       "      <td>344</td>\n",
       "      <td>92</td>\n",
       "      <td>1</td>\n",
       "    </tr>\n",
       "    <tr>\n",
       "      <th>3</th>\n",
       "      <td>0.000582</td>\n",
       "      <td>0.000498</td>\n",
       "      <td>141</td>\n",
       "      <td>82</td>\n",
       "      <td>0.000289</td>\n",
       "      <td>0.000295</td>\n",
       "      <td>160</td>\n",
       "      <td>0.000286</td>\n",
       "      <td>0.000304</td>\n",
       "      <td>79</td>\n",
       "      <td>68</td>\n",
       "      <td>169</td>\n",
       "      <td>185</td>\n",
       "      <td>73</td>\n",
       "      <td>85</td>\n",
       "      <td>90</td>\n",
       "      <td>101</td>\n",
       "      <td>1</td>\n",
       "    </tr>\n",
       "    <tr>\n",
       "      <th>4</th>\n",
       "      <td>0.001120</td>\n",
       "      <td>0.000803</td>\n",
       "      <td>614</td>\n",
       "      <td>776</td>\n",
       "      <td>0.000863</td>\n",
       "      <td>0.000800</td>\n",
       "      <td>828</td>\n",
       "      <td>0.000777</td>\n",
       "      <td>0.000929</td>\n",
       "      <td>697</td>\n",
       "      <td>588</td>\n",
       "      <td>775</td>\n",
       "      <td>1198</td>\n",
       "      <td>643</td>\n",
       "      <td>751</td>\n",
       "      <td>806</td>\n",
       "      <td>935</td>\n",
       "      <td>1</td>\n",
       "    </tr>\n",
       "    <tr>\n",
       "      <th>...</th>\n",
       "      <td>...</td>\n",
       "      <td>...</td>\n",
       "      <td>...</td>\n",
       "      <td>...</td>\n",
       "      <td>...</td>\n",
       "      <td>...</td>\n",
       "      <td>...</td>\n",
       "      <td>...</td>\n",
       "      <td>...</td>\n",
       "      <td>...</td>\n",
       "      <td>...</td>\n",
       "      <td>...</td>\n",
       "      <td>...</td>\n",
       "      <td>...</td>\n",
       "      <td>...</td>\n",
       "      <td>...</td>\n",
       "      <td>...</td>\n",
       "      <td>...</td>\n",
       "    </tr>\n",
       "    <tr>\n",
       "      <th>140701</th>\n",
       "      <td>0.001527</td>\n",
       "      <td>0.001484</td>\n",
       "      <td>697</td>\n",
       "      <td>798</td>\n",
       "      <td>0.001477</td>\n",
       "      <td>0.001317</td>\n",
       "      <td>674</td>\n",
       "      <td>0.001366</td>\n",
       "      <td>0.001358</td>\n",
       "      <td>622</td>\n",
       "      <td>579</td>\n",
       "      <td>1700</td>\n",
       "      <td>1736</td>\n",
       "      <td>569</td>\n",
       "      <td>501</td>\n",
       "      <td>1437</td>\n",
       "      <td>1364</td>\n",
       "      <td>1</td>\n",
       "    </tr>\n",
       "    <tr>\n",
       "      <th>140702</th>\n",
       "      <td>0.002188</td>\n",
       "      <td>0.002044</td>\n",
       "      <td>493</td>\n",
       "      <td>401</td>\n",
       "      <td>0.002211</td>\n",
       "      <td>0.001098</td>\n",
       "      <td>473</td>\n",
       "      <td>0.002570</td>\n",
       "      <td>0.002642</td>\n",
       "      <td>487</td>\n",
       "      <td>527</td>\n",
       "      <td>1280</td>\n",
       "      <td>1353</td>\n",
       "      <td>19</td>\n",
       "      <td>293</td>\n",
       "      <td>66</td>\n",
       "      <td>758</td>\n",
       "      <td>1</td>\n",
       "    </tr>\n",
       "    <tr>\n",
       "      <th>140703</th>\n",
       "      <td>0.002562</td>\n",
       "      <td>0.001745</td>\n",
       "      <td>403</td>\n",
       "      <td>586</td>\n",
       "      <td>0.002614</td>\n",
       "      <td>0.002299</td>\n",
       "      <td>573</td>\n",
       "      <td>0.001964</td>\n",
       "      <td>0.002146</td>\n",
       "      <td>517</td>\n",
       "      <td>480</td>\n",
       "      <td>1128</td>\n",
       "      <td>1490</td>\n",
       "      <td>505</td>\n",
       "      <td>486</td>\n",
       "      <td>1250</td>\n",
       "      <td>1273</td>\n",
       "      <td>1</td>\n",
       "    </tr>\n",
       "    <tr>\n",
       "      <th>140704</th>\n",
       "      <td>0.003863</td>\n",
       "      <td>0.002285</td>\n",
       "      <td>487</td>\n",
       "      <td>582</td>\n",
       "      <td>0.002691</td>\n",
       "      <td>0.003014</td>\n",
       "      <td>947</td>\n",
       "      <td>0.002448</td>\n",
       "      <td>0.003344</td>\n",
       "      <td>586</td>\n",
       "      <td>506</td>\n",
       "      <td>1228</td>\n",
       "      <td>2582</td>\n",
       "      <td>663</td>\n",
       "      <td>752</td>\n",
       "      <td>1789</td>\n",
       "      <td>1999</td>\n",
       "      <td>1</td>\n",
       "    </tr>\n",
       "    <tr>\n",
       "      <th>140705</th>\n",
       "      <td>0.002839</td>\n",
       "      <td>0.002618</td>\n",
       "      <td>618</td>\n",
       "      <td>624</td>\n",
       "      <td>0.002490</td>\n",
       "      <td>0.002593</td>\n",
       "      <td>748</td>\n",
       "      <td>0.002212</td>\n",
       "      <td>0.000000</td>\n",
       "      <td>609</td>\n",
       "      <td>610</td>\n",
       "      <td>1689</td>\n",
       "      <td>1688</td>\n",
       "      <td>681</td>\n",
       "      <td>0</td>\n",
       "      <td>1721</td>\n",
       "      <td>0</td>\n",
       "      <td>1</td>\n",
       "    </tr>\n",
       "  </tbody>\n",
       "</table>\n",
       "<p>140706 rows × 18 columns</p>\n",
       "</div>"
      ],
      "text/plain": [
       "         AS_NA_6   AS_NA_0  AI_0  AI_5   AS_NA_4   AS_NA_3  AI_6   AS_NA_1  \\\n",
       "0       0.000729  0.000517   366   519  0.000647  0.000614   545  0.000460   \n",
       "1       0.000496  0.000234    66    65  0.000618  0.000264   113  0.000249   \n",
       "2       0.000548  0.000339    83   696  0.000538  0.001074   159  0.000294   \n",
       "3       0.000582  0.000498   141    82  0.000289  0.000295   160  0.000286   \n",
       "4       0.001120  0.000803   614   776  0.000863  0.000800   828  0.000777   \n",
       "...          ...       ...   ...   ...       ...       ...   ...       ...   \n",
       "140701  0.001527  0.001484   697   798  0.001477  0.001317   674  0.001366   \n",
       "140702  0.002188  0.002044   493   401  0.002211  0.001098   473  0.002570   \n",
       "140703  0.002562  0.001745   403   586  0.002614  0.002299   573  0.001964   \n",
       "140704  0.003863  0.002285   487   582  0.002691  0.003014   947  0.002448   \n",
       "140705  0.002839  0.002618   618   624  0.002490  0.002593   748  0.002212   \n",
       "\n",
       "         AS_NA_2  AI_4  AI_1  NCD_0  NCD_6  AI_3  AI_2  NCD_3  NCD_2  buzz  \n",
       "0       0.000474   463   288    542    832   445   318    626    504     1  \n",
       "1       0.000490   131    59     92    162    58   118    100    196     0  \n",
       "2       0.000320   155    78     90    184   288    76    344     92     1  \n",
       "3       0.000304    79    68    169    185    73    85     90    101     1  \n",
       "4       0.000929   697   588    775   1198   643   751    806    935     1  \n",
       "...          ...   ...   ...    ...    ...   ...   ...    ...    ...   ...  \n",
       "140701  0.001358   622   579   1700   1736   569   501   1437   1364     1  \n",
       "140702  0.002642   487   527   1280   1353    19   293     66    758     1  \n",
       "140703  0.002146   517   480   1128   1490   505   486   1250   1273     1  \n",
       "140704  0.003344   586   506   1228   2582   663   752   1789   1999     1  \n",
       "140705  0.000000   609   610   1689   1688   681     0   1721      0     1  \n",
       "\n",
       "[140706 rows x 18 columns]"
      ]
     },
     "execution_count": 8,
     "metadata": {},
     "output_type": "execute_result"
    }
   ],
   "source": [
    "twitter_2 = twitter_nuevo[[\"AS_NA_6\", \"AS_NA_0\", \"AI_0\", \"AI_5\", \"AS_NA_4\", \"AS_NA_3\", \"AI_6\", \"AS_NA_1\", \"AS_NA_2\",\n",
    "              \"AI_4\", \"AI_1\", \"NCD_0\", \"NCD_6\", \"AI_3\", \"AI_2\", \"NCD_3\", \"NCD_2\", \"buzz\"]]\n",
    "X = twitter_2\n",
    "X.drop([\"buzz\"], axis = 1)\n",
    "X"
   ]
  },
  {
   "cell_type": "code",
   "execution_count": 9,
   "metadata": {},
   "outputs": [
    {
     "data": {
      "text/html": [
       "<div>\n",
       "<style scoped>\n",
       "    .dataframe tbody tr th:only-of-type {\n",
       "        vertical-align: middle;\n",
       "    }\n",
       "\n",
       "    .dataframe tbody tr th {\n",
       "        vertical-align: top;\n",
       "    }\n",
       "\n",
       "    .dataframe thead th {\n",
       "        text-align: right;\n",
       "    }\n",
       "</style>\n",
       "<table border=\"1\" class=\"dataframe\">\n",
       "  <thead>\n",
       "    <tr style=\"text-align: right;\">\n",
       "      <th></th>\n",
       "      <th>AS_NA_6</th>\n",
       "      <th>AS_NA_0</th>\n",
       "      <th>AI_0</th>\n",
       "      <th>AI_5</th>\n",
       "      <th>AS_NA_4</th>\n",
       "      <th>AS_NA_3</th>\n",
       "      <th>AI_6</th>\n",
       "      <th>AS_NA_1</th>\n",
       "      <th>AS_NA_2</th>\n",
       "      <th>AI_4</th>\n",
       "      <th>AI_1</th>\n",
       "      <th>NCD_0</th>\n",
       "      <th>NCD_6</th>\n",
       "      <th>AI_3</th>\n",
       "      <th>AI_2</th>\n",
       "      <th>NCD_3</th>\n",
       "      <th>NCD_2</th>\n",
       "    </tr>\n",
       "  </thead>\n",
       "  <tbody>\n",
       "    <tr>\n",
       "      <th>0</th>\n",
       "      <td>0.000729</td>\n",
       "      <td>0.000517</td>\n",
       "      <td>366</td>\n",
       "      <td>519</td>\n",
       "      <td>0.000647</td>\n",
       "      <td>0.000614</td>\n",
       "      <td>545</td>\n",
       "      <td>0.000460</td>\n",
       "      <td>0.000474</td>\n",
       "      <td>463</td>\n",
       "      <td>288</td>\n",
       "      <td>542</td>\n",
       "      <td>832</td>\n",
       "      <td>445</td>\n",
       "      <td>318</td>\n",
       "      <td>626</td>\n",
       "      <td>504</td>\n",
       "    </tr>\n",
       "    <tr>\n",
       "      <th>1</th>\n",
       "      <td>0.000496</td>\n",
       "      <td>0.000234</td>\n",
       "      <td>66</td>\n",
       "      <td>65</td>\n",
       "      <td>0.000618</td>\n",
       "      <td>0.000264</td>\n",
       "      <td>113</td>\n",
       "      <td>0.000249</td>\n",
       "      <td>0.000490</td>\n",
       "      <td>131</td>\n",
       "      <td>59</td>\n",
       "      <td>92</td>\n",
       "      <td>162</td>\n",
       "      <td>58</td>\n",
       "      <td>118</td>\n",
       "      <td>100</td>\n",
       "      <td>196</td>\n",
       "    </tr>\n",
       "    <tr>\n",
       "      <th>2</th>\n",
       "      <td>0.000548</td>\n",
       "      <td>0.000339</td>\n",
       "      <td>83</td>\n",
       "      <td>696</td>\n",
       "      <td>0.000538</td>\n",
       "      <td>0.001074</td>\n",
       "      <td>159</td>\n",
       "      <td>0.000294</td>\n",
       "      <td>0.000320</td>\n",
       "      <td>155</td>\n",
       "      <td>78</td>\n",
       "      <td>90</td>\n",
       "      <td>184</td>\n",
       "      <td>288</td>\n",
       "      <td>76</td>\n",
       "      <td>344</td>\n",
       "      <td>92</td>\n",
       "    </tr>\n",
       "    <tr>\n",
       "      <th>3</th>\n",
       "      <td>0.000582</td>\n",
       "      <td>0.000498</td>\n",
       "      <td>141</td>\n",
       "      <td>82</td>\n",
       "      <td>0.000289</td>\n",
       "      <td>0.000295</td>\n",
       "      <td>160</td>\n",
       "      <td>0.000286</td>\n",
       "      <td>0.000304</td>\n",
       "      <td>79</td>\n",
       "      <td>68</td>\n",
       "      <td>169</td>\n",
       "      <td>185</td>\n",
       "      <td>73</td>\n",
       "      <td>85</td>\n",
       "      <td>90</td>\n",
       "      <td>101</td>\n",
       "    </tr>\n",
       "    <tr>\n",
       "      <th>4</th>\n",
       "      <td>0.001120</td>\n",
       "      <td>0.000803</td>\n",
       "      <td>614</td>\n",
       "      <td>776</td>\n",
       "      <td>0.000863</td>\n",
       "      <td>0.000800</td>\n",
       "      <td>828</td>\n",
       "      <td>0.000777</td>\n",
       "      <td>0.000929</td>\n",
       "      <td>697</td>\n",
       "      <td>588</td>\n",
       "      <td>775</td>\n",
       "      <td>1198</td>\n",
       "      <td>643</td>\n",
       "      <td>751</td>\n",
       "      <td>806</td>\n",
       "      <td>935</td>\n",
       "    </tr>\n",
       "    <tr>\n",
       "      <th>...</th>\n",
       "      <td>...</td>\n",
       "      <td>...</td>\n",
       "      <td>...</td>\n",
       "      <td>...</td>\n",
       "      <td>...</td>\n",
       "      <td>...</td>\n",
       "      <td>...</td>\n",
       "      <td>...</td>\n",
       "      <td>...</td>\n",
       "      <td>...</td>\n",
       "      <td>...</td>\n",
       "      <td>...</td>\n",
       "      <td>...</td>\n",
       "      <td>...</td>\n",
       "      <td>...</td>\n",
       "      <td>...</td>\n",
       "      <td>...</td>\n",
       "    </tr>\n",
       "    <tr>\n",
       "      <th>140701</th>\n",
       "      <td>0.001527</td>\n",
       "      <td>0.001484</td>\n",
       "      <td>697</td>\n",
       "      <td>798</td>\n",
       "      <td>0.001477</td>\n",
       "      <td>0.001317</td>\n",
       "      <td>674</td>\n",
       "      <td>0.001366</td>\n",
       "      <td>0.001358</td>\n",
       "      <td>622</td>\n",
       "      <td>579</td>\n",
       "      <td>1700</td>\n",
       "      <td>1736</td>\n",
       "      <td>569</td>\n",
       "      <td>501</td>\n",
       "      <td>1437</td>\n",
       "      <td>1364</td>\n",
       "    </tr>\n",
       "    <tr>\n",
       "      <th>140702</th>\n",
       "      <td>0.002188</td>\n",
       "      <td>0.002044</td>\n",
       "      <td>493</td>\n",
       "      <td>401</td>\n",
       "      <td>0.002211</td>\n",
       "      <td>0.001098</td>\n",
       "      <td>473</td>\n",
       "      <td>0.002570</td>\n",
       "      <td>0.002642</td>\n",
       "      <td>487</td>\n",
       "      <td>527</td>\n",
       "      <td>1280</td>\n",
       "      <td>1353</td>\n",
       "      <td>19</td>\n",
       "      <td>293</td>\n",
       "      <td>66</td>\n",
       "      <td>758</td>\n",
       "    </tr>\n",
       "    <tr>\n",
       "      <th>140703</th>\n",
       "      <td>0.002562</td>\n",
       "      <td>0.001745</td>\n",
       "      <td>403</td>\n",
       "      <td>586</td>\n",
       "      <td>0.002614</td>\n",
       "      <td>0.002299</td>\n",
       "      <td>573</td>\n",
       "      <td>0.001964</td>\n",
       "      <td>0.002146</td>\n",
       "      <td>517</td>\n",
       "      <td>480</td>\n",
       "      <td>1128</td>\n",
       "      <td>1490</td>\n",
       "      <td>505</td>\n",
       "      <td>486</td>\n",
       "      <td>1250</td>\n",
       "      <td>1273</td>\n",
       "    </tr>\n",
       "    <tr>\n",
       "      <th>140704</th>\n",
       "      <td>0.003863</td>\n",
       "      <td>0.002285</td>\n",
       "      <td>487</td>\n",
       "      <td>582</td>\n",
       "      <td>0.002691</td>\n",
       "      <td>0.003014</td>\n",
       "      <td>947</td>\n",
       "      <td>0.002448</td>\n",
       "      <td>0.003344</td>\n",
       "      <td>586</td>\n",
       "      <td>506</td>\n",
       "      <td>1228</td>\n",
       "      <td>2582</td>\n",
       "      <td>663</td>\n",
       "      <td>752</td>\n",
       "      <td>1789</td>\n",
       "      <td>1999</td>\n",
       "    </tr>\n",
       "    <tr>\n",
       "      <th>140705</th>\n",
       "      <td>0.002839</td>\n",
       "      <td>0.002618</td>\n",
       "      <td>618</td>\n",
       "      <td>624</td>\n",
       "      <td>0.002490</td>\n",
       "      <td>0.002593</td>\n",
       "      <td>748</td>\n",
       "      <td>0.002212</td>\n",
       "      <td>0.000000</td>\n",
       "      <td>609</td>\n",
       "      <td>610</td>\n",
       "      <td>1689</td>\n",
       "      <td>1688</td>\n",
       "      <td>681</td>\n",
       "      <td>0</td>\n",
       "      <td>1721</td>\n",
       "      <td>0</td>\n",
       "    </tr>\n",
       "  </tbody>\n",
       "</table>\n",
       "<p>140706 rows × 17 columns</p>\n",
       "</div>"
      ],
      "text/plain": [
       "         AS_NA_6   AS_NA_0  AI_0  AI_5   AS_NA_4   AS_NA_3  AI_6   AS_NA_1  \\\n",
       "0       0.000729  0.000517   366   519  0.000647  0.000614   545  0.000460   \n",
       "1       0.000496  0.000234    66    65  0.000618  0.000264   113  0.000249   \n",
       "2       0.000548  0.000339    83   696  0.000538  0.001074   159  0.000294   \n",
       "3       0.000582  0.000498   141    82  0.000289  0.000295   160  0.000286   \n",
       "4       0.001120  0.000803   614   776  0.000863  0.000800   828  0.000777   \n",
       "...          ...       ...   ...   ...       ...       ...   ...       ...   \n",
       "140701  0.001527  0.001484   697   798  0.001477  0.001317   674  0.001366   \n",
       "140702  0.002188  0.002044   493   401  0.002211  0.001098   473  0.002570   \n",
       "140703  0.002562  0.001745   403   586  0.002614  0.002299   573  0.001964   \n",
       "140704  0.003863  0.002285   487   582  0.002691  0.003014   947  0.002448   \n",
       "140705  0.002839  0.002618   618   624  0.002490  0.002593   748  0.002212   \n",
       "\n",
       "         AS_NA_2  AI_4  AI_1  NCD_0  NCD_6  AI_3  AI_2  NCD_3  NCD_2  \n",
       "0       0.000474   463   288    542    832   445   318    626    504  \n",
       "1       0.000490   131    59     92    162    58   118    100    196  \n",
       "2       0.000320   155    78     90    184   288    76    344     92  \n",
       "3       0.000304    79    68    169    185    73    85     90    101  \n",
       "4       0.000929   697   588    775   1198   643   751    806    935  \n",
       "...          ...   ...   ...    ...    ...   ...   ...    ...    ...  \n",
       "140701  0.001358   622   579   1700   1736   569   501   1437   1364  \n",
       "140702  0.002642   487   527   1280   1353    19   293     66    758  \n",
       "140703  0.002146   517   480   1128   1490   505   486   1250   1273  \n",
       "140704  0.003344   586   506   1228   2582   663   752   1789   1999  \n",
       "140705  0.000000   609   610   1689   1688   681     0   1721      0  \n",
       "\n",
       "[140706 rows x 17 columns]"
      ]
     },
     "execution_count": 9,
     "metadata": {},
     "output_type": "execute_result"
    }
   ],
   "source": [
    "X= X.drop(['buzz'], axis = 1)\n",
    "y = twitter_2['buzz']\n",
    "X"
   ]
  },
  {
   "cell_type": "code",
   "execution_count": 10,
   "metadata": {},
   "outputs": [
    {
     "name": "stdout",
     "output_type": "stream",
     "text": [
      "original dataset shape: 140706\n",
      "Resample dataset shape 55548\n"
     ]
    }
   ],
   "source": [
    "#!pip3 install imblearn\n",
    "\n",
    "#!{sys.executable} -m pip install imblearn\n",
    "#!{sys.executable} -m pip install Counter\n",
    "\n",
    "from imblearn.under_sampling import RandomUnderSampler\n",
    "#import Counter\n",
    "\n",
    "rus = RandomUnderSampler(random_state=42, replacement=True)# fit predictor and target variable\n",
    "x_rus, y_rus = rus.fit_resample(X, y)\n",
    "\n",
    "print('original dataset shape:', len(y))\n",
    "print('Resample dataset shape', len(y_rus))"
   ]
  },
  {
   "cell_type": "code",
   "execution_count": null,
   "metadata": {},
   "outputs": [],
   "source": [
    "#https://www.kaggle.com/ekami66/detailed-exploratory-data-analysis-with-python\n",
    "\n",
    "for i in range(0, len(twitter_2.columns), 5):\n",
    "    sb.pairplot(data=twitter_2,\n",
    "                x_vars=twitter_2.columns[i:i+5],\n",
    "                y_vars=['buzz'])"
   ]
  },
  {
   "cell_type": "code",
   "execution_count": 11,
   "metadata": {},
   "outputs": [
    {
     "name": "stdout",
     "output_type": "stream",
     "text": [
      "0.19739030318536524\n"
     ]
    },
    {
     "data": {
      "text/plain": [
       "0.5"
      ]
     },
     "execution_count": 11,
     "metadata": {},
     "output_type": "execute_result"
    }
   ],
   "source": [
    "#y.sum()/y.count()\n",
    "# 0.1974 sin aplicar técnica SMOTE para los conjuntos altamente imbalanceados.\n",
    "print(y.sum()/y.count())\n",
    "y_rus.sum()/y_rus.count()"
   ]
  },
  {
   "cell_type": "code",
   "execution_count": 12,
   "metadata": {},
   "outputs": [
    {
     "name": "stdout",
     "output_type": "stream",
     "text": [
      "0.8026096968146348\n"
     ]
    },
    {
     "data": {
      "text/plain": [
       "0.5"
      ]
     },
     "execution_count": 12,
     "metadata": {},
     "output_type": "execute_result"
    }
   ],
   "source": [
    "#\n",
    "# 0.82 sin balancear\n",
    "print(max(y.mean(), 1 - y.mean()))\n",
    "max(y_rus.mean(), 1 - y_rus.mean())"
   ]
  },
  {
   "cell_type": "markdown",
   "metadata": {},
   "source": [
    "Bases on the null accuracy and y.sum()/y.count() we see that the dataset is not balanced. AUC is to be used when evaluating models on imbalanced data. \n",
    "Hence for this project we consider AUC as a scoring function."
   ]
  },
  {
   "cell_type": "code",
   "execution_count": 13,
   "metadata": {},
   "outputs": [
    {
     "data": {
      "text/plain": [
       "55548"
      ]
     },
     "execution_count": 13,
     "metadata": {},
     "output_type": "execute_result"
    }
   ],
   "source": [
    "#Dummytrain,sample_data,Dummytrain2,sample_target = train_test_split(X, y, shuffle = True, test_size = 0.25)\n",
    "\n",
    "#"
   ]
  },
  {
   "cell_type": "code",
   "execution_count": null,
   "metadata": {},
   "outputs": [],
   "source": []
  },
  {
   "cell_type": "code",
   "execution_count": 14,
   "metadata": {},
   "outputs": [
    {
     "data": {
      "text/html": [
       "<div>\n",
       "<style scoped>\n",
       "    .dataframe tbody tr th:only-of-type {\n",
       "        vertical-align: middle;\n",
       "    }\n",
       "\n",
       "    .dataframe tbody tr th {\n",
       "        vertical-align: top;\n",
       "    }\n",
       "\n",
       "    .dataframe thead th {\n",
       "        text-align: right;\n",
       "    }\n",
       "</style>\n",
       "<table border=\"1\" class=\"dataframe\">\n",
       "  <thead>\n",
       "    <tr style=\"text-align: right;\">\n",
       "      <th></th>\n",
       "      <th>AS_NA_6</th>\n",
       "      <th>AS_NA_0</th>\n",
       "      <th>AI_0</th>\n",
       "      <th>AI_5</th>\n",
       "      <th>AS_NA_4</th>\n",
       "      <th>AS_NA_3</th>\n",
       "      <th>AI_6</th>\n",
       "      <th>AS_NA_1</th>\n",
       "      <th>AS_NA_2</th>\n",
       "      <th>AI_4</th>\n",
       "      <th>AI_1</th>\n",
       "      <th>NCD_0</th>\n",
       "      <th>NCD_6</th>\n",
       "      <th>AI_3</th>\n",
       "      <th>AI_2</th>\n",
       "      <th>NCD_3</th>\n",
       "      <th>NCD_2</th>\n",
       "    </tr>\n",
       "  </thead>\n",
       "  <tbody>\n",
       "    <tr>\n",
       "      <th>25664</th>\n",
       "      <td>0.000002</td>\n",
       "      <td>0.000002</td>\n",
       "      <td>2</td>\n",
       "      <td>2</td>\n",
       "      <td>0.000001</td>\n",
       "      <td>0.000006</td>\n",
       "      <td>2</td>\n",
       "      <td>0.000000</td>\n",
       "      <td>0.000002</td>\n",
       "      <td>1</td>\n",
       "      <td>0</td>\n",
       "      <td>2</td>\n",
       "      <td>4</td>\n",
       "      <td>5</td>\n",
       "      <td>2</td>\n",
       "      <td>6</td>\n",
       "      <td>2</td>\n",
       "    </tr>\n",
       "    <tr>\n",
       "      <th>54430</th>\n",
       "      <td>0.001228</td>\n",
       "      <td>0.001201</td>\n",
       "      <td>684</td>\n",
       "      <td>756</td>\n",
       "      <td>0.001292</td>\n",
       "      <td>0.001081</td>\n",
       "      <td>694</td>\n",
       "      <td>0.000951</td>\n",
       "      <td>0.001173</td>\n",
       "      <td>697</td>\n",
       "      <td>506</td>\n",
       "      <td>1158</td>\n",
       "      <td>1271</td>\n",
       "      <td>561</td>\n",
       "      <td>578</td>\n",
       "      <td>986</td>\n",
       "      <td>1037</td>\n",
       "    </tr>\n",
       "    <tr>\n",
       "      <th>44021</th>\n",
       "      <td>0.002467</td>\n",
       "      <td>0.001632</td>\n",
       "      <td>847</td>\n",
       "      <td>1140</td>\n",
       "      <td>0.002734</td>\n",
       "      <td>0.001742</td>\n",
       "      <td>1103</td>\n",
       "      <td>0.001235</td>\n",
       "      <td>0.001792</td>\n",
       "      <td>1279</td>\n",
       "      <td>722</td>\n",
       "      <td>1261</td>\n",
       "      <td>1466</td>\n",
       "      <td>1082</td>\n",
       "      <td>1135</td>\n",
       "      <td>1457</td>\n",
       "      <td>1485</td>\n",
       "    </tr>\n",
       "    <tr>\n",
       "      <th>17795</th>\n",
       "      <td>0.000006</td>\n",
       "      <td>0.000003</td>\n",
       "      <td>2</td>\n",
       "      <td>1</td>\n",
       "      <td>0.000008</td>\n",
       "      <td>0.000006</td>\n",
       "      <td>2</td>\n",
       "      <td>0.000003</td>\n",
       "      <td>0.000004</td>\n",
       "      <td>4</td>\n",
       "      <td>1</td>\n",
       "      <td>3</td>\n",
       "      <td>8</td>\n",
       "      <td>3</td>\n",
       "      <td>3</td>\n",
       "      <td>6</td>\n",
       "      <td>9</td>\n",
       "    </tr>\n",
       "    <tr>\n",
       "      <th>42401</th>\n",
       "      <td>0.001994</td>\n",
       "      <td>0.000931</td>\n",
       "      <td>613</td>\n",
       "      <td>1443</td>\n",
       "      <td>0.001017</td>\n",
       "      <td>0.001096</td>\n",
       "      <td>1035</td>\n",
       "      <td>0.001783</td>\n",
       "      <td>0.001047</td>\n",
       "      <td>488</td>\n",
       "      <td>1198</td>\n",
       "      <td>724</td>\n",
       "      <td>1141</td>\n",
       "      <td>771</td>\n",
       "      <td>751</td>\n",
       "      <td>914</td>\n",
       "      <td>855</td>\n",
       "    </tr>\n",
       "    <tr>\n",
       "      <th>...</th>\n",
       "      <td>...</td>\n",
       "      <td>...</td>\n",
       "      <td>...</td>\n",
       "      <td>...</td>\n",
       "      <td>...</td>\n",
       "      <td>...</td>\n",
       "      <td>...</td>\n",
       "      <td>...</td>\n",
       "      <td>...</td>\n",
       "      <td>...</td>\n",
       "      <td>...</td>\n",
       "      <td>...</td>\n",
       "      <td>...</td>\n",
       "      <td>...</td>\n",
       "      <td>...</td>\n",
       "      <td>...</td>\n",
       "      <td>...</td>\n",
       "    </tr>\n",
       "    <tr>\n",
       "      <th>26008</th>\n",
       "      <td>0.000001</td>\n",
       "      <td>0.000000</td>\n",
       "      <td>0</td>\n",
       "      <td>0</td>\n",
       "      <td>0.000001</td>\n",
       "      <td>0.000001</td>\n",
       "      <td>1</td>\n",
       "      <td>0.000001</td>\n",
       "      <td>0.000001</td>\n",
       "      <td>1</td>\n",
       "      <td>1</td>\n",
       "      <td>0</td>\n",
       "      <td>1</td>\n",
       "      <td>1</td>\n",
       "      <td>1</td>\n",
       "      <td>1</td>\n",
       "      <td>1</td>\n",
       "    </tr>\n",
       "    <tr>\n",
       "      <th>39054</th>\n",
       "      <td>0.001907</td>\n",
       "      <td>0.000842</td>\n",
       "      <td>301</td>\n",
       "      <td>393</td>\n",
       "      <td>0.000981</td>\n",
       "      <td>0.000932</td>\n",
       "      <td>656</td>\n",
       "      <td>0.000874</td>\n",
       "      <td>0.000912</td>\n",
       "      <td>331</td>\n",
       "      <td>283</td>\n",
       "      <td>722</td>\n",
       "      <td>1308</td>\n",
       "      <td>328</td>\n",
       "      <td>291</td>\n",
       "      <td>742</td>\n",
       "      <td>615</td>\n",
       "    </tr>\n",
       "    <tr>\n",
       "      <th>36001</th>\n",
       "      <td>0.001387</td>\n",
       "      <td>0.001261</td>\n",
       "      <td>375</td>\n",
       "      <td>456</td>\n",
       "      <td>0.001164</td>\n",
       "      <td>0.001019</td>\n",
       "      <td>416</td>\n",
       "      <td>0.000623</td>\n",
       "      <td>0.000113</td>\n",
       "      <td>297</td>\n",
       "      <td>99</td>\n",
       "      <td>720</td>\n",
       "      <td>771</td>\n",
       "      <td>266</td>\n",
       "      <td>2</td>\n",
       "      <td>524</td>\n",
       "      <td>7</td>\n",
       "    </tr>\n",
       "    <tr>\n",
       "      <th>7585</th>\n",
       "      <td>0.000003</td>\n",
       "      <td>0.000006</td>\n",
       "      <td>1</td>\n",
       "      <td>0</td>\n",
       "      <td>0.000010</td>\n",
       "      <td>0.000003</td>\n",
       "      <td>3</td>\n",
       "      <td>0.000003</td>\n",
       "      <td>0.000007</td>\n",
       "      <td>2</td>\n",
       "      <td>1</td>\n",
       "      <td>2</td>\n",
       "      <td>3</td>\n",
       "      <td>1</td>\n",
       "      <td>2</td>\n",
       "      <td>1</td>\n",
       "      <td>2</td>\n",
       "    </tr>\n",
       "    <tr>\n",
       "      <th>38161</th>\n",
       "      <td>0.000631</td>\n",
       "      <td>0.000470</td>\n",
       "      <td>343</td>\n",
       "      <td>365</td>\n",
       "      <td>0.000442</td>\n",
       "      <td>0.000411</td>\n",
       "      <td>448</td>\n",
       "      <td>0.000454</td>\n",
       "      <td>0.000557</td>\n",
       "      <td>296</td>\n",
       "      <td>289</td>\n",
       "      <td>491</td>\n",
       "      <td>653</td>\n",
       "      <td>266</td>\n",
       "      <td>359</td>\n",
       "      <td>397</td>\n",
       "      <td>500</td>\n",
       "    </tr>\n",
       "  </tbody>\n",
       "</table>\n",
       "<p>13887 rows × 17 columns</p>\n",
       "</div>"
      ],
      "text/plain": [
       "        AS_NA_6   AS_NA_0  AI_0  AI_5   AS_NA_4   AS_NA_3  AI_6   AS_NA_1  \\\n",
       "25664  0.000002  0.000002     2     2  0.000001  0.000006     2  0.000000   \n",
       "54430  0.001228  0.001201   684   756  0.001292  0.001081   694  0.000951   \n",
       "44021  0.002467  0.001632   847  1140  0.002734  0.001742  1103  0.001235   \n",
       "17795  0.000006  0.000003     2     1  0.000008  0.000006     2  0.000003   \n",
       "42401  0.001994  0.000931   613  1443  0.001017  0.001096  1035  0.001783   \n",
       "...         ...       ...   ...   ...       ...       ...   ...       ...   \n",
       "26008  0.000001  0.000000     0     0  0.000001  0.000001     1  0.000001   \n",
       "39054  0.001907  0.000842   301   393  0.000981  0.000932   656  0.000874   \n",
       "36001  0.001387  0.001261   375   456  0.001164  0.001019   416  0.000623   \n",
       "7585   0.000003  0.000006     1     0  0.000010  0.000003     3  0.000003   \n",
       "38161  0.000631  0.000470   343   365  0.000442  0.000411   448  0.000454   \n",
       "\n",
       "        AS_NA_2  AI_4  AI_1  NCD_0  NCD_6  AI_3  AI_2  NCD_3  NCD_2  \n",
       "25664  0.000002     1     0      2      4     5     2      6      2  \n",
       "54430  0.001173   697   506   1158   1271   561   578    986   1037  \n",
       "44021  0.001792  1279   722   1261   1466  1082  1135   1457   1485  \n",
       "17795  0.000004     4     1      3      8     3     3      6      9  \n",
       "42401  0.001047   488  1198    724   1141   771   751    914    855  \n",
       "...         ...   ...   ...    ...    ...   ...   ...    ...    ...  \n",
       "26008  0.000001     1     1      0      1     1     1      1      1  \n",
       "39054  0.000912   331   283    722   1308   328   291    742    615  \n",
       "36001  0.000113   297    99    720    771   266     2    524      7  \n",
       "7585   0.000007     2     1      2      3     1     2      1      2  \n",
       "38161  0.000557   296   289    491    653   266   359    397    500  \n",
       "\n",
       "[13887 rows x 17 columns]"
      ]
     },
     "execution_count": 14,
     "metadata": {},
     "output_type": "execute_result"
    }
   ],
   "source": [
    "Dummytrain,sample_data,Dummytrain2,sample_target = train_test_split(x_rus, y_rus, shuffle = True, test_size = 0.25)\n",
    "X = sample_data\n",
    "y = sample_target\n",
    "X"
   ]
  },
  {
   "cell_type": "code",
   "execution_count": 15,
   "metadata": {},
   "outputs": [],
   "source": [
    "#X_train_org, X_test_org, y_train, y_test = train_test_split(X, y, random_state=0)\n",
    "X_train_org, X_test_org, y_train, y_test = train_test_split(x_rus, y_rus, random_state=0)"
   ]
  },
  {
   "cell_type": "code",
   "execution_count": 17,
   "metadata": {},
   "outputs": [
    {
     "data": {
      "text/plain": [
       "pandas.core.series.Series"
      ]
     },
     "execution_count": 17,
     "metadata": {},
     "output_type": "execute_result"
    }
   ],
   "source": [
    "#We choose the MinMaxScaler to scale the data\n",
    "scaler = MinMaxScaler()\n",
    "X_train = scaler.fit_transform(X_train_org)\n",
    "X_test = scaler.transform(X_test_org)\n",
    "\n",
    "X_full_scaled = scaler.fit_transform(X)\n",
    "type(y_train)"
   ]
  },
  {
   "cell_type": "code",
   "execution_count": 18,
   "metadata": {},
   "outputs": [],
   "source": [
    "df_train = pd.DataFrame(data = X_train, columns = [\"AS_NA_6\", \"AS_NA_0\", \"AI_0\", \"AI_5\", \"AS_NA_4\", \"AS_NA_3\", \"AI_6\", \"AS_NA_1\", \"AS_NA_2\",\n",
    "              \"AI_4\", \"AI_1\", \"NCD_0\", \"NCD_6\", \"AI_3\", \"AI_2\", \"NCD_3\", \"NCD_2\"])\n"
   ]
  },
  {
   "cell_type": "code",
   "execution_count": 21,
   "metadata": {},
   "outputs": [],
   "source": [
    "# https://www.kite.com/python/answers/how-to-remove-outliers-from-a-pandas-dataframe-in-python\n",
    "from scipy.stats import zscore\n",
    "# z centrado para remover outliers\n",
    "z_scores = zscore(df_train)\n",
    "abs_z_scores = np.abs(z_scores)\n",
    "filtered_entries = (abs_z_scores < 3).all(axis=1)\n",
    "\n",
    "new_df = df_train[filtered_entries]"
   ]
  },
  {
   "cell_type": "code",
   "execution_count": 22,
   "metadata": {},
   "outputs": [
    {
     "data": {
      "image/png": "[encoded data removed]",
      "text/plain": [
       "<Figure size 900x180 with 5 Axes>"
      ]
     },
     "metadata": {
      "needs_background": "light"
     },
     "output_type": "display_data"
    },
    {
     "data": {
      "image/png": "[encoded data removed]",
      "text/plain": [
       "<Figure size 900x180 with 5 Axes>"
      ]
     },
     "metadata": {
      "needs_background": "light"
     },
     "output_type": "display_data"
    },
    {
     "data": {
      "image/png": "[encoded data removed]",
      "text/plain": [
       "<Figure size 900x180 with 5 Axes>"
      ]
     },
     "metadata": {
      "needs_background": "light"
     },
     "output_type": "display_data"
    },
    {
     "data": {
      "image/png": "[encoded data removed]",
      "text/plain": [
       "<Figure size 540x180 with 3 Axes>"
      ]
     },
     "metadata": {
      "needs_background": "light"
     },
     "output_type": "display_data"
    }
   ],
   "source": [
    "df_train['ybuzz'] = y_train.values\n",
    "for i in range(0, len(df_train.columns), 5):\n",
    "    sb.pairplot(data=df_train,\n",
    "                x_vars=df_train.columns[i:i+5],\n",
    "                y_vars=['ybuzz'])"
   ]
  },
  {
   "cell_type": "code",
   "execution_count": 23,
   "metadata": {},
   "outputs": [
    {
     "name": "stdout",
     "output_type": "stream",
     "text": [
      "(39851,)\n"
     ]
    },
    {
     "data": {
      "text/plain": [
       "18991"
      ]
     },
     "execution_count": 23,
     "metadata": {},
     "output_type": "execute_result"
    }
   ],
   "source": [
    "print(new_df.ybuzz.shape)\n",
    "np.sum(new_df.ybuzz[new_df.ybuzz == 1])#correlacion[abs(correlacion) > 0.5].sort_values(ascending=False)"
   ]
  },
  {
   "cell_type": "code",
   "execution_count": null,
   "metadata": {},
   "outputs": [],
   "source": []
  },
  {
   "cell_type": "code",
   "execution_count": 47,
   "metadata": {},
   "outputs": [
    {
     "data": {
      "text/plain": [
       "39851"
      ]
     },
     "execution_count": 47,
     "metadata": {},
     "output_type": "execute_result"
    }
   ],
   "source": [
    "new_df.ybuzz.count()\n",
    "\n",
    "\n",
    "new_y_train = new_df.ybuzz\n",
    "new_x_train = new_df.drop([\"ybuzz\"], axis = 1)\n",
    "loo = LeaveOneOut()\n",
    "loo.get_n_splits(new_x_train)"
   ]
  },
  {
   "cell_type": "markdown",
   "metadata": {},
   "source": [
    "# Kernalized SVM"
   ]
  },
  {
   "cell_type": "code",
   "execution_count": null,
   "metadata": {},
   "outputs": [],
   "source": [
    "model_name = 'KernelSVC'\n",
    "\n",
    "C_range = [0.01, 0.1, 1, 10, 100]\n",
    "gamma_range = [0.01, 0.1, 1, 10, 100]\n",
    "svc_param_grid = dict(gamma=gamma_range, C=C_range)\n",
    "#When nothing is passed to the Kernel parameter by default it takes 'rbf'\n",
    "grid_SVC_rbf = GridSearchCV(SVC(), svc_param_grid, cv = 5, scoring='roc_auc', return_train_score=True, n_jobs=-1)\n",
    "grid_SVC_rbf.fit(X_train, y_train)"
   ]
  },
  {
   "cell_type": "code",
   "execution_count": null,
   "metadata": {},
   "outputs": [],
   "source": [
    "best_parameters = str(grid_SVC_rbf.best_params_)\n",
    "grid_SVC_rbf.best_params_"
   ]
  },
  {
   "cell_type": "code",
   "execution_count": null,
   "metadata": {},
   "outputs": [],
   "source": [
    "train_score = grid_SVC_rbf.score(X_train, y_train)\n",
    "test_score = grid_SVC_rbf.score(X_test, y_test)"
   ]
  },
  {
   "cell_type": "code",
   "execution_count": null,
   "metadata": {},
   "outputs": [],
   "source": [
    "y_SVM_predict_train = grid_SVC_rbf.predict(X_train)\n",
    "y_SVM_predict_test = grid_SVC_rbf.predict(X_test)"
   ]
  },
  {
   "cell_type": "code",
   "execution_count": null,
   "metadata": {},
   "outputs": [],
   "source": [
    "auc_train_score = roc_auc_score(y_SVM_predict_train, y_train)\n",
    "auc_test_score = roc_auc_score(y_SVM_predict_test, y_test)"
   ]
  },
  {
   "cell_type": "code",
   "execution_count": null,
   "metadata": {},
   "outputs": [],
   "source": [
    "report_table = report_table + [[model_name, best_parameters, train_score, test_score, auc_train_score, auc_test_score]]\n",
    "\n",
    "report_tabledf = pd.DataFrame(report_table, columns = ['Model', 'Best Parameters', 'Train accuracy', 'Test accuracy', 'Train AUC Score', 'Test AUC Score']).set_index('Model', drop=True)\n",
    "\n",
    "report_tabledf"
   ]
  },
  {
   "cell_type": "markdown",
   "metadata": {},
   "source": [
    "# Decision Tree"
   ]
  },
  {
   "cell_type": "code",
   "execution_count": null,
   "metadata": {},
   "outputs": [],
   "source": [
    "model_name = 'DecisionTree'\n",
    "\n",
    "max_depths = np.linspace(1, 32, 32, endpoint=True)\n",
    "train_results = []\n",
    "test_results = []\n",
    "for max_depth in max_depths:\n",
    "   dt = DecisionTreeClassifier(max_depth=max_depth)\n",
    "   dt.fit(X_train, y_train)\n",
    "   train_pred = dt.predict(X_train)\n",
    "   false_positive_rate, true_positive_rate, thresholds = roc_curve(y_train, train_pred)\n",
    "   roc_auc = auc(false_positive_rate, true_positive_rate)\n",
    "   # Add auc score to previous train results\n",
    "   train_results.append(roc_auc)\n",
    "   y_pred = dt.predict(X_test)\n",
    "   false_positive_rate, true_positive_rate, thresholds = roc_curve(y_test, y_pred)\n",
    "   roc_auc = auc(false_positive_rate, true_positive_rate)\n",
    "   # Add auc score to previous test results\n",
    "   test_results.append(roc_auc)\n",
    "from matplotlib.legend_handler import HandlerLine2D\n",
    "line1, = plt.plot(max_depths, train_results, 'b', label=\"Train AUC\")\n",
    "line2, = plt.plot(max_depths, test_results, 'r', label=\"Test AUC\")\n",
    "plt.legend(handler_map={line1: HandlerLine2D(numpoints=2)})\n",
    "plt.ylabel('AUC score')\n",
    "plt.xlabel('Tree depth')\n",
    "plt.show()"
   ]
  },
  {
   "cell_type": "code",
   "execution_count": null,
   "metadata": {},
   "outputs": [],
   "source": [
    "#From the graph we can clearly see that the model is overfitting for tree depth > ~5\n",
    "\n",
    "dtc =DecisionTreeClassifier()\n",
    "param_grid = {'max_depth': [3,4,5,6, 10, 16]}\n",
    "grid_dtree = GridSearchCV(dtc, param_grid, cv=5, scoring='roc_auc')\n",
    "grid_dtree.fit(X_train, y_train)"
   ]
  },
  {
   "cell_type": "code",
   "execution_count": null,
   "metadata": {},
   "outputs": [],
   "source": [
    "best_parameters = str(grid_dtree.best_params_)\n",
    "grid_dtree.best_params_"
   ]
  },
  {
   "cell_type": "code",
   "execution_count": null,
   "metadata": {},
   "outputs": [],
   "source": [
    "train_score = grid_dtree.score(X_train,y_train)\n",
    "test_score = grid_dtree.score(X_test, y_test)"
   ]
  },
  {
   "cell_type": "code",
   "execution_count": null,
   "metadata": {},
   "outputs": [],
   "source": [
    "y_dtree_predict_train = grid_dtree.predict(X_train)\n",
    "y_dtree_predict_test = grid_dtree.predict(X_test)"
   ]
  },
  {
   "cell_type": "code",
   "execution_count": null,
   "metadata": {},
   "outputs": [],
   "source": [
    "auc_train_score = roc_auc_score(y_dtree_predict_train, y_train)\n",
    "auc_test_score = roc_auc_score(y_dtree_predict_test, y_test)"
   ]
  },
  {
   "cell_type": "code",
   "execution_count": null,
   "metadata": {},
   "outputs": [],
   "source": [
    "report_table = report_table + [[model_name, best_parameters, train_score, test_score, auc_train_score, auc_test_score]]"
   ]
  },
  {
   "cell_type": "code",
   "execution_count": null,
   "metadata": {},
   "outputs": [],
   "source": [
    "report_tabledf = pd.DataFrame(report_table, columns = ['Model', 'Best Parameters', 'Train accuracy', 'Test accuracy', 'Train AUC Score', 'Test AUC Score']).set_index('Model', drop=True)\n",
    "\n",
    "report_tabledf"
   ]
  },
  {
   "cell_type": "markdown",
   "metadata": {},
   "source": [
    "# Model Selection\n",
    "From the report we can see that Linear SVC has the highest train AUC score and also highest test AUC score. Hence will choose Linear SVC as the best model for this dataset"
   ]
  },
  {
   "cell_type": "markdown",
   "metadata": {},
   "source": [
    "Final model\n",
    "\n",
    "Running Linear SVC on the entire dataset"
   ]
  },
  {
   "cell_type": "code",
   "execution_count": null,
   "metadata": {},
   "outputs": [],
   "source": [
    "model_name = 'LinearSVC'\n",
    "X_final = Twitter_Absolute_Sigma\n",
    "X_final= X_final.drop(['buzz'],axis = 1)\n",
    "y_final = Twitter_Absolute_Sigma['buzz']\n",
    "\n",
    "X_train_org, X_test_org, y_train_final, y_test_final = train_test_split(X_final, y_final, random_state=0)"
   ]
  },
  {
   "cell_type": "code",
   "execution_count": null,
   "metadata": {},
   "outputs": [],
   "source": [
    "#We choose the MinMaxScaler to scale the data\n",
    "scaler = MinMaxScaler()\n",
    "X_train_final = scaler.fit_transform(X_train_org)\n",
    "X_test_final = scaler.transform(X_test_org)\n",
    "\n",
    "X_full_scaled = scaler.fit_transform(X)"
   ]
  },
  {
   "cell_type": "code",
   "execution_count": null,
   "metadata": {},
   "outputs": [],
   "source": [
    "svc_lin = LinearSVC()\n",
    "param_grid = {'C':[0.001, 0.01, 0.1, 1, 10, 100]}\n",
    "\n",
    "grid_svc_lin = GridSearchCV(svc_lin, param_grid, cv = 5, scoring='roc_auc', return_train_score=True)\n",
    "\n",
    "grid_svc_lin.fit(X_train_final, y_train_final)"
   ]
  },
  {
   "cell_type": "code",
   "execution_count": null,
   "metadata": {},
   "outputs": [],
   "source": [
    "best_parameters = str(grid_svc_lin.best_params_)\n",
    "grid_svc_lin.best_params_"
   ]
  },
  {
   "cell_type": "code",
   "execution_count": null,
   "metadata": {},
   "outputs": [],
   "source": [
    "train_score = grid_svc_lin.score(X_train_final, y_train_final)\n",
    "test_score = grid_svc_lin.score(X_test_final, y_test_final)"
   ]
  },
  {
   "cell_type": "code",
   "execution_count": null,
   "metadata": {},
   "outputs": [],
   "source": [
    "y_svc_lin_predict_train = grid_svc_lin.predict(X_train_final)\n",
    "y_svc_lin_predict = grid_svc_lin.predict(X_test_final)"
   ]
  },
  {
   "cell_type": "code",
   "execution_count": null,
   "metadata": {},
   "outputs": [],
   "source": [
    "model_name = 'LinearSVC'\n",
    "final_report = []\n",
    "final_report = [[model_name, best_parameters, train_score, test_score, auc_train_score, auc_test_score]]\n",
    "\n",
    "final_reportdf = pd.DataFrame(final_report, columns = ['Model', 'Best Parameters', 'Train accuracy', 'Test accuracy', 'Train AUC Score', 'Test AUC Score']).set_index('Model', drop=True)\n",
    "final_reportdf"
   ]
  },
  {
   "cell_type": "code",
   "execution_count": null,
   "metadata": {},
   "outputs": [],
   "source": [
    "final_report"
   ]
  },
  {
   "cell_type": "code",
   "execution_count": null,
   "metadata": {},
   "outputs": [],
   "source": [
    "y_svc_lin_predict\n",
    "y_svc_lin_predict_list = list(y)\n",
    "y_svc_lin_predict_list.count(1)"
   ]
  },
  {
   "cell_type": "code",
   "execution_count": null,
   "metadata": {},
   "outputs": [],
   "source": [
    "y_svc_lin_predict_list.count(0)"
   ]
  },
  {
   "cell_type": "code",
   "execution_count": null,
   "metadata": {},
   "outputs": [],
   "source": [
    "buzz_predicted = (y_svc_lin_predict_list.count(1) / (y_svc_lin_predict_list.count(1) + y_svc_lin_predict_list.count(0)))"
   ]
  },
  {
   "cell_type": "code",
   "execution_count": null,
   "metadata": {},
   "outputs": [],
   "source": [
    "print('Buzz predicted percentage = ',(buzz_predicted*100))"
   ]
  }
 ],
 "metadata": {
  "kernelspec": {
   "display_name": "Python 3",
   "language": "python",
   "name": "python3"
  },
  "language_info": {
   "codemirror_mode": {
    "name": "ipython",
    "version": 3
   },
   "file_extension": ".py",
   "mimetype": "text/x-python",
   "name": "python",
   "nbconvert_exporter": "python",
   "pygments_lexer": "ipython3",
   "version": "3.8.5"
  }
 },
 "nbformat": 4,
 "nbformat_minor": 2
}
